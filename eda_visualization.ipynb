{
  "metadata": {
    "kernelspec": {
      "name": "python",
      "display_name": "Python (Pyodide)",
      "language": "python"
    },
    "language_info": {
      "codemirror_mode": {
        "name": "python",
        "version": 3
      },
      "file_extension": ".py",
      "mimetype": "text/x-python",
      "name": "python",
      "nbconvert_exporter": "python",
      "pygments_lexer": "ipython3",
      "version": "3.8"
    }
  },
  "nbformat_minor": 4,
  "nbformat": 4,
  "cells": [
    {
      "cell_type": "code",
      "source": "# This Python 3 environment comes with many helpful analytics libraries installed\n# It is defined by the kaggle/python Docker image: https://github.com/kaggle/docker-python\n# For example, here's several helpful packages to load\n\nimport numpy as np # linear algebra\nimport pandas as pd # data processing, CSV file I/O (e.g. pd.read_csv)\n\n# Input data files are available in the read-only \"../input/\" directory\n# For example, running this (by clicking run or pressing Shift+Enter) will list all files under the input directory\n\nimport os\nfor dirname, _, filenames in os.walk('/kaggle/input'):\n    for filename in filenames:\n        print(os.path.join(dirname, filename))\n\n# You can write up to 20GB to the current directory (/kaggle/working/) that gets preserved as output when you create a version using \"Save & Run All\" \n# You can also write temporary files to /kaggle/temp/, but they won't be saved outside of the current session",
      "metadata": {
        "_cell_guid": "b1076dfc-b9ad-4769-8c92-a6c4dae69d19",
        "_uuid": "8f2839f25d086af736a60e9eeb907d3b93b6e0e5",
        "execution": {
          "iopub.execute_input": "2022-09-26T17:43:00.113469Z",
          "iopub.status.busy": "2022-09-26T17:43:00.111628Z",
          "iopub.status.idle": "2022-09-26T17:43:00.162865Z",
          "shell.execute_reply": "2022-09-26T17:43:00.160372Z",
          "shell.execute_reply.started": "2022-09-26T17:43:00.113316Z"
        }
      },
      "execution_count": 1,
      "outputs": [
        {
          "name": "stdout",
          "output_type": "stream",
          "text": "/kaggle/input/zomato-bangalore-restaurants/zomato.csv\n"
        }
      ]
    },
    {
      "cell_type": "code",
      "source": "#importing the ther necessary libraries:\nimport seaborn as sb\nimport matplotlib.pyplot as plt\nimport plotly.offline as py\nimport plotly.graph_objs as go\nimport seaborn as sns\nimport warnings\nwarnings.filterwarnings('always')\nwarnings.filterwarnings('ignore')\n\nfrom nltk.corpus import stopwords\nfrom sklearn.metrics.pairwise import linear_kernel\nfrom sklearn.feature_extraction.text import CountVectorizer\nfrom sklearn.feature_extraction.text import TfidfVectorizer",
      "metadata": {
        "execution": {
          "iopub.execute_input": "2022-09-26T17:43:00.166380Z",
          "iopub.status.busy": "2022-09-26T17:43:00.165937Z",
          "iopub.status.idle": "2022-09-26T17:43:01.583966Z",
          "shell.execute_reply": "2022-09-26T17:43:01.582159Z",
          "shell.execute_reply.started": "2022-09-26T17:43:00.166350Z"
        }
      },
      "execution_count": 2,
      "outputs": []
    },
    {
      "cell_type": "code",
      "source": "#Loading Dataset\nzdata =pd.read_csv (\"../input/zomato-bangalore-restaurants/zomato.csv\")\nzdata.head()",
      "metadata": {
        "execution": {
          "iopub.execute_input": "2022-09-26T17:43:01.586050Z",
          "iopub.status.busy": "2022-09-26T17:43:01.585675Z",
          "iopub.status.idle": "2022-09-26T17:43:15.865728Z",
          "shell.execute_reply": "2022-09-26T17:43:15.864712Z",
          "shell.execute_reply.started": "2022-09-26T17:43:01.586022Z"
        }
      },
      "execution_count": 3,
      "outputs": [
        {
          "execution_count": 3,
          "output_type": "execute_result",
          "data": {
            "text/html": [
              "<div>\n",
              "<style scoped>\n",
              "    .dataframe tbody tr th:only-of-type {\n",
              "        vertical-align: middle;\n",
              "    }\n",
              "\n",
              "    .dataframe tbody tr th {\n",
              "        vertical-align: top;\n",
              "    }\n",
              "\n",
              "    .dataframe thead th {\n",
              "        text-align: right;\n",
              "    }\n",
              "</style>\n",
              "<table border=\"1\" class=\"dataframe\">\n",
              "  <thead>\n",
              "    <tr style=\"text-align: right;\">\n",
              "      <th></th>\n",
              "      <th>url</th>\n",
              "      <th>address</th>\n",
              "      <th>name</th>\n",
              "      <th>online_order</th>\n",
              "      <th>book_table</th>\n",
              "      <th>rate</th>\n",
              "      <th>votes</th>\n",
              "      <th>phone</th>\n",
              "      <th>location</th>\n",
              "      <th>rest_type</th>\n",
              "      <th>dish_liked</th>\n",
              "      <th>cuisines</th>\n",
              "      <th>approx_cost(for two people)</th>\n",
              "      <th>reviews_list</th>\n",
              "      <th>menu_item</th>\n",
              "      <th>listed_in(type)</th>\n",
              "      <th>listed_in(city)</th>\n",
              "    </tr>\n",
              "  </thead>\n",
              "  <tbody>\n",
              "    <tr>\n",
              "      <th>0</th>\n",
              "      <td>https://www.zomato.com/bangalore/jalsa-banasha...</td>\n",
              "      <td>942, 21st Main Road, 2nd Stage, Banashankari, ...</td>\n",
              "      <td>Jalsa</td>\n",
              "      <td>Yes</td>\n",
              "      <td>Yes</td>\n",
              "      <td>4.1/5</td>\n",
              "      <td>775</td>\n",
              "      <td>080 42297555\\r\\n+91 9743772233</td>\n",
              "      <td>Banashankari</td>\n",
              "      <td>Casual Dining</td>\n",
              "      <td>Pasta, Lunch Buffet, Masala Papad, Paneer Laja...</td>\n",
              "      <td>North Indian, Mughlai, Chinese</td>\n",
              "      <td>800</td>\n",
              "      <td>[('Rated 4.0', 'RATED\\n  A beautiful place to ...</td>\n",
              "      <td>[]</td>\n",
              "      <td>Buffet</td>\n",
              "      <td>Banashankari</td>\n",
              "    </tr>\n",
              "    <tr>\n",
              "      <th>1</th>\n",
              "      <td>https://www.zomato.com/bangalore/spice-elephan...</td>\n",
              "      <td>2nd Floor, 80 Feet Road, Near Big Bazaar, 6th ...</td>\n",
              "      <td>Spice Elephant</td>\n",
              "      <td>Yes</td>\n",
              "      <td>No</td>\n",
              "      <td>4.1/5</td>\n",
              "      <td>787</td>\n",
              "      <td>080 41714161</td>\n",
              "      <td>Banashankari</td>\n",
              "      <td>Casual Dining</td>\n",
              "      <td>Momos, Lunch Buffet, Chocolate Nirvana, Thai G...</td>\n",
              "      <td>Chinese, North Indian, Thai</td>\n",
              "      <td>800</td>\n",
              "      <td>[('Rated 4.0', 'RATED\\n  Had been here for din...</td>\n",
              "      <td>[]</td>\n",
              "      <td>Buffet</td>\n",
              "      <td>Banashankari</td>\n",
              "    </tr>\n",
              "    <tr>\n",
              "      <th>2</th>\n",
              "      <td>https://www.zomato.com/SanchurroBangalore?cont...</td>\n",
              "      <td>1112, Next to KIMS Medical College, 17th Cross...</td>\n",
              "      <td>San Churro Cafe</td>\n",
              "      <td>Yes</td>\n",
              "      <td>No</td>\n",
              "      <td>3.8/5</td>\n",
              "      <td>918</td>\n",
              "      <td>+91 9663487993</td>\n",
              "      <td>Banashankari</td>\n",
              "      <td>Cafe, Casual Dining</td>\n",
              "      <td>Churros, Cannelloni, Minestrone Soup, Hot Choc...</td>\n",
              "      <td>Cafe, Mexican, Italian</td>\n",
              "      <td>800</td>\n",
              "      <td>[('Rated 3.0', \"RATED\\n  Ambience is not that ...</td>\n",
              "      <td>[]</td>\n",
              "      <td>Buffet</td>\n",
              "      <td>Banashankari</td>\n",
              "    </tr>\n",
              "    <tr>\n",
              "      <th>3</th>\n",
              "      <td>https://www.zomato.com/bangalore/addhuri-udupi...</td>\n",
              "      <td>1st Floor, Annakuteera, 3rd Stage, Banashankar...</td>\n",
              "      <td>Addhuri Udupi Bhojana</td>\n",
              "      <td>No</td>\n",
              "      <td>No</td>\n",
              "      <td>3.7/5</td>\n",
              "      <td>88</td>\n",
              "      <td>+91 9620009302</td>\n",
              "      <td>Banashankari</td>\n",
              "      <td>Quick Bites</td>\n",
              "      <td>Masala Dosa</td>\n",
              "      <td>South Indian, North Indian</td>\n",
              "      <td>300</td>\n",
              "      <td>[('Rated 4.0', \"RATED\\n  Great food and proper...</td>\n",
              "      <td>[]</td>\n",
              "      <td>Buffet</td>\n",
              "      <td>Banashankari</td>\n",
              "    </tr>\n",
              "    <tr>\n",
              "      <th>4</th>\n",
              "      <td>https://www.zomato.com/bangalore/grand-village...</td>\n",
              "      <td>10, 3rd Floor, Lakshmi Associates, Gandhi Baza...</td>\n",
              "      <td>Grand Village</td>\n",
              "      <td>No</td>\n",
              "      <td>No</td>\n",
              "      <td>3.8/5</td>\n",
              "      <td>166</td>\n",
              "      <td>+91 8026612447\\r\\n+91 9901210005</td>\n",
              "      <td>Basavanagudi</td>\n",
              "      <td>Casual Dining</td>\n",
              "      <td>Panipuri, Gol Gappe</td>\n",
              "      <td>North Indian, Rajasthani</td>\n",
              "      <td>600</td>\n",
              "      <td>[('Rated 4.0', 'RATED\\n  Very good restaurant ...</td>\n",
              "      <td>[]</td>\n",
              "      <td>Buffet</td>\n",
              "      <td>Banashankari</td>\n",
              "    </tr>\n",
              "  </tbody>\n",
              "</table>\n",
              "</div>"
            ],
            "text/plain": [
              "                                                 url  \\\n",
              "0  https://www.zomato.com/bangalore/jalsa-banasha...   \n",
              "1  https://www.zomato.com/bangalore/spice-elephan...   \n",
              "2  https://www.zomato.com/SanchurroBangalore?cont...   \n",
              "3  https://www.zomato.com/bangalore/addhuri-udupi...   \n",
              "4  https://www.zomato.com/bangalore/grand-village...   \n",
              "\n",
              "                                             address                   name  \\\n",
              "0  942, 21st Main Road, 2nd Stage, Banashankari, ...                  Jalsa   \n",
              "1  2nd Floor, 80 Feet Road, Near Big Bazaar, 6th ...         Spice Elephant   \n",
              "2  1112, Next to KIMS Medical College, 17th Cross...        San Churro Cafe   \n",
              "3  1st Floor, Annakuteera, 3rd Stage, Banashankar...  Addhuri Udupi Bhojana   \n",
              "4  10, 3rd Floor, Lakshmi Associates, Gandhi Baza...          Grand Village   \n",
              "\n",
              "  online_order book_table   rate  votes                             phone  \\\n",
              "0          Yes        Yes  4.1/5    775    080 42297555\\r\\n+91 9743772233   \n",
              "1          Yes         No  4.1/5    787                      080 41714161   \n",
              "2          Yes         No  3.8/5    918                    +91 9663487993   \n",
              "3           No         No  3.7/5     88                    +91 9620009302   \n",
              "4           No         No  3.8/5    166  +91 8026612447\\r\\n+91 9901210005   \n",
              "\n",
              "       location            rest_type  \\\n",
              "0  Banashankari        Casual Dining   \n",
              "1  Banashankari        Casual Dining   \n",
              "2  Banashankari  Cafe, Casual Dining   \n",
              "3  Banashankari          Quick Bites   \n",
              "4  Basavanagudi        Casual Dining   \n",
              "\n",
              "                                          dish_liked  \\\n",
              "0  Pasta, Lunch Buffet, Masala Papad, Paneer Laja...   \n",
              "1  Momos, Lunch Buffet, Chocolate Nirvana, Thai G...   \n",
              "2  Churros, Cannelloni, Minestrone Soup, Hot Choc...   \n",
              "3                                        Masala Dosa   \n",
              "4                                Panipuri, Gol Gappe   \n",
              "\n",
              "                         cuisines approx_cost(for two people)  \\\n",
              "0  North Indian, Mughlai, Chinese                         800   \n",
              "1     Chinese, North Indian, Thai                         800   \n",
              "2          Cafe, Mexican, Italian                         800   \n",
              "3      South Indian, North Indian                         300   \n",
              "4        North Indian, Rajasthani                         600   \n",
              "\n",
              "                                        reviews_list menu_item  \\\n",
              "0  [('Rated 4.0', 'RATED\\n  A beautiful place to ...        []   \n",
              "1  [('Rated 4.0', 'RATED\\n  Had been here for din...        []   \n",
              "2  [('Rated 3.0', \"RATED\\n  Ambience is not that ...        []   \n",
              "3  [('Rated 4.0', \"RATED\\n  Great food and proper...        []   \n",
              "4  [('Rated 4.0', 'RATED\\n  Very good restaurant ...        []   \n",
              "\n",
              "  listed_in(type) listed_in(city)  \n",
              "0          Buffet    Banashankari  \n",
              "1          Buffet    Banashankari  \n",
              "2          Buffet    Banashankari  \n",
              "3          Buffet    Banashankari  \n",
              "4          Buffet    Banashankari  "
            ]
          },
          "metadata": {}
        }
      ]
    },
    {
      "cell_type": "code",
      "source": "zdata.shape",
      "metadata": {
        "execution": {
          "iopub.execute_input": "2022-09-26T17:43:15.871057Z",
          "iopub.status.busy": "2022-09-26T17:43:15.869959Z",
          "iopub.status.idle": "2022-09-26T17:43:15.879210Z",
          "shell.execute_reply": "2022-09-26T17:43:15.878036Z",
          "shell.execute_reply.started": "2022-09-26T17:43:15.871014Z"
        }
      },
      "execution_count": 4,
      "outputs": [
        {
          "execution_count": 4,
          "output_type": "execute_result",
          "data": {
            "text/plain": [
              "(51717, 17)"
            ]
          },
          "metadata": {}
        }
      ]
    },
    {
      "cell_type": "markdown",
      "source": "# Columns Description\n\n1. URL- url of the restaurant on the Zomato website\n\n2. address- address of the restaurant\n\n3. name- name of the restaurant\n\n4. online_order- column having binary values(yes/no) whether or not online ordering is available in the restaurant\n\n5. book_table- column having binary values(yes/no) whether or not we can book tables(reservation) in the restaurant \n\n6. rate- the overall rating of the restaurant out of 5\n\n7. votes- the total number of rating for the restaurant\n\n8. phone- phone number of the restaurant\n\n9. location- neighbourhood in which the restaurant is located\n\n10. rest_type- restaurant type\n\n11. dish_liked- dishes people liked in the restaurant \n\n12. cuisines- food styles (separated by comma)\n\n13. approx_cost(for two people)- the approximate cost for a meal for two people\n\n14. reviews_list- list of tuples containing reviews for the restaurant\n\n15. menu_item- list of menus available in the restaurant\n\n16. listed_in(type)- type of meal\n\n17. listed_in(city)- neighbourhood in which the restaurant is listed",
      "metadata": {}
    },
    {
      "cell_type": "markdown",
      "source": "# Number of Rows and Atrributes:\n\nBefore data cleaning:\n* No.of rows= 51717\n* No. of attributes= 17",
      "metadata": {}
    },
    {
      "cell_type": "code",
      "source": "zdata.info()",
      "metadata": {
        "execution": {
          "iopub.execute_input": "2022-09-26T17:43:15.881509Z",
          "iopub.status.busy": "2022-09-26T17:43:15.880884Z",
          "iopub.status.idle": "2022-09-26T17:43:15.984585Z",
          "shell.execute_reply": "2022-09-26T17:43:15.982552Z",
          "shell.execute_reply.started": "2022-09-26T17:43:15.881460Z"
        }
      },
      "execution_count": 5,
      "outputs": [
        {
          "name": "stdout",
          "output_type": "stream",
          "text": "<class 'pandas.core.frame.DataFrame'>\n\nRangeIndex: 51717 entries, 0 to 51716\n\nData columns (total 17 columns):\n\n #   Column                       Non-Null Count  Dtype \n\n---  ------                       --------------  ----- \n\n 0   url                          51717 non-null  object\n\n 1   address                      51717 non-null  object\n\n 2   name                         51717 non-null  object\n\n 3   online_order                 51717 non-null  object\n\n 4   book_table                   51717 non-null  object\n\n 5   rate                         43942 non-null  object\n\n 6   votes                        51717 non-null  int64 \n\n 7   phone                        50509 non-null  object\n\n 8   location                     51696 non-null  object\n\n 9   rest_type                    51490 non-null  object\n\n 10  dish_liked                   23639 non-null  object\n\n 11  cuisines                     51672 non-null  object\n\n 12  approx_cost(for two people)  51371 non-null  object\n\n 13  reviews_list                 51717 non-null  object\n\n 14  menu_item                    51717 non-null  object\n\n 15  listed_in(type)              51717 non-null  object\n\n 16  listed_in(city)              51717 non-null  object\n\ndtypes: int64(1), object(16)\n\nmemory usage: 6.7+ MB\n"
        }
      ]
    },
    {
      "cell_type": "markdown",
      "source": "There are many columns that have Null values and there are some columns that are not required for our analysis. In the next step we will focus on cleaning the dataset to implement the exploratory data analysis.",
      "metadata": {}
    },
    {
      "cell_type": "markdown",
      "source": "# DATA PREPARATION AND CLEANING:",
      "metadata": {}
    },
    {
      "cell_type": "markdown",
      "source": "Columns like dish_liked, url, and phone are not required. Hence we will drop these columns.\nColumns with NaN values  and duplicates are also dropped.",
      "metadata": {}
    },
    {
      "cell_type": "code",
      "source": "zdata=zdata.drop(['phone','dish_liked','menu_item'],axis=1)\nzdata.dropna(how='any',inplace=True)\n\n#number of duplicate values\nzdata.duplicated().sum()\nzdata.drop_duplicates(inplace=True)",
      "metadata": {
        "execution": {
          "iopub.execute_input": "2022-09-26T17:43:15.987448Z",
          "iopub.status.busy": "2022-09-26T17:43:15.986908Z",
          "iopub.status.idle": "2022-09-26T17:43:18.943907Z",
          "shell.execute_reply": "2022-09-26T17:43:18.941940Z",
          "shell.execute_reply.started": "2022-09-26T17:43:15.987406Z"
        }
      },
      "execution_count": 6,
      "outputs": []
    },
    {
      "cell_type": "markdown",
      "source": "Certain column names are changed for the ease of understanding the dataset.\n\nThe values in rate column will be converted in to floating point value. We will remove the '/5' and convert their type.\n\nCost value is converted into float.",
      "metadata": {}
    },
    {
      "cell_type": "code",
      "source": "#Changing the column names\nzdata= zdata.rename(columns={'approx_cost(for two people)':'cost','listed_in(type)':'type', 'listed_in(city)':'city'})\n\n#Removing '/5' from Rates\nzdata = zdata.loc[zdata.rate !='NEW']\nzdata = zdata.loc[zdata.rate !='-'].reset_index(drop=True)\nremove_slash = lambda x: x.replace('/5', '') if type(x) == np.str else x\nzdata.rate = zdata.rate.apply(remove_slash).str.strip().astype('float')\n\n#Changing the cost to floating point \nzdata['cost'] = zdata['cost'].astype(str) \nzdata['cost'] = zdata['cost'].apply(lambda x: x.replace(',','.'))\nzdata['cost'] = zdata['cost'].astype(float)",
      "metadata": {
        "execution": {
          "iopub.execute_input": "2022-09-26T17:43:18.947278Z",
          "iopub.status.busy": "2022-09-26T17:43:18.946522Z",
          "iopub.status.idle": "2022-09-26T17:43:19.156541Z",
          "shell.execute_reply": "2022-09-26T17:43:19.155410Z",
          "shell.execute_reply.started": "2022-09-26T17:43:18.947186Z"
        }
      },
      "execution_count": 7,
      "outputs": []
    },
    {
      "cell_type": "markdown",
      "source": "The data has been cleaned.",
      "metadata": {}
    },
    {
      "cell_type": "markdown",
      "source": "**Checking for Null Values:**",
      "metadata": {}
    },
    {
      "cell_type": "code",
      "source": "#Checking for null values:\nzdata.isnull().sum()",
      "metadata": {
        "execution": {
          "iopub.execute_input": "2022-09-26T17:43:19.158483Z",
          "iopub.status.busy": "2022-09-26T17:43:19.158095Z",
          "iopub.status.idle": "2022-09-26T17:43:19.199564Z",
          "shell.execute_reply": "2022-09-26T17:43:19.196413Z",
          "shell.execute_reply.started": "2022-09-26T17:43:19.158455Z"
        }
      },
      "execution_count": 8,
      "outputs": [
        {
          "execution_count": 8,
          "output_type": "execute_result",
          "data": {
            "text/plain": [
              "url             0\n",
              "address         0\n",
              "name            0\n",
              "online_order    0\n",
              "book_table      0\n",
              "rate            0\n",
              "votes           0\n",
              "location        0\n",
              "rest_type       0\n",
              "cuisines        0\n",
              "cost            0\n",
              "reviews_list    0\n",
              "type            0\n",
              "city            0\n",
              "dtype: int64"
            ]
          },
          "metadata": {}
        }
      ]
    },
    {
      "cell_type": "markdown",
      "source": "We see that there are no null values in the dataset now.",
      "metadata": {}
    },
    {
      "cell_type": "markdown",
      "source": "# After Cleaning the Data Set",
      "metadata": {}
    },
    {
      "cell_type": "code",
      "source": "zdata.shape",
      "metadata": {
        "execution": {
          "iopub.execute_input": "2022-09-26T17:43:19.203491Z",
          "iopub.status.busy": "2022-09-26T17:43:19.203034Z",
          "iopub.status.idle": "2022-09-26T17:43:19.214655Z",
          "shell.execute_reply": "2022-09-26T17:43:19.212853Z",
          "shell.execute_reply.started": "2022-09-26T17:43:19.203460Z"
        }
      },
      "execution_count": 9,
      "outputs": [
        {
          "execution_count": 9,
          "output_type": "execute_result",
          "data": {
            "text/plain": [
              "(41263, 14)"
            ]
          },
          "metadata": {}
        }
      ]
    },
    {
      "cell_type": "code",
      "source": "zdata.head()\nzdata.info()",
      "metadata": {
        "execution": {
          "iopub.execute_input": "2022-09-26T17:43:19.221719Z",
          "iopub.status.busy": "2022-09-26T17:43:19.220350Z",
          "iopub.status.idle": "2022-09-26T17:43:19.266080Z",
          "shell.execute_reply": "2022-09-26T17:43:19.264761Z",
          "shell.execute_reply.started": "2022-09-26T17:43:19.221648Z"
        }
      },
      "execution_count": 10,
      "outputs": [
        {
          "name": "stdout",
          "output_type": "stream",
          "text": "<class 'pandas.core.frame.DataFrame'>\n\nRangeIndex: 41263 entries, 0 to 41262\n\nData columns (total 14 columns):\n\n #   Column        Non-Null Count  Dtype  \n\n---  ------        --------------  -----  \n\n 0   url           41263 non-null  object \n\n 1   address       41263 non-null  object \n\n 2   name          41263 non-null  object \n\n 3   online_order  41263 non-null  object \n\n 4   book_table    41263 non-null  object \n\n 5   rate          41263 non-null  float64\n\n 6   votes         41263 non-null  int64  \n\n 7   location      41263 non-null  object \n\n 8   rest_type     41263 non-null  object \n\n 9   cuisines      41263 non-null  object \n\n 10  cost          41263 non-null  float64\n\n 11  reviews_list  41263 non-null  object \n\n 12  type          41263 non-null  object \n\n 13  city          41263 non-null  object \n\ndtypes: float64(2), int64(1), object(11)\n\nmemory usage: 4.4+ MB\n"
        }
      ]
    },
    {
      "cell_type": "markdown",
      "source": "**Number of Rows and Atrributes:**\n\nAfter data cleaning:\n* No.of rows= 41263\n* No. of attributes= 14",
      "metadata": {}
    },
    {
      "cell_type": "markdown",
      "source": "# EXPLORATORY DATA ANALYSIS\nThis dataset contains reviews of restaurants in Bangalore from Zomato.\n\n**1. Most Famous Restaurant Chains in Bangalore**\n\nA chain restaurant is a group of restaurants with many different locations that share a name and concept. We first find the top 10 restaurant chains. The ordering is done based on the number of franchises a restaurant has. We assume that the more the number of franchises the more popular it is.\n\nFrom the bar plot below we see that Cafe Coffee Day has the most number of franchises in Bangalore.\n",
      "metadata": {}
    },
    {
      "cell_type": "code",
      "source": "plt.figure(figsize=(8,5))\nchains=zdata['name'].value_counts()[:10]\n#print(chains)\nsb.barplot(x=chains,y=chains.index,palette='deep')\nplt.title(\"Most famous restaurants chains in Bangalore\")\nplt.xlabel(\"Number of outlets\")",
      "metadata": {
        "execution": {
          "iopub.execute_input": "2022-09-26T17:43:19.910664Z",
          "iopub.status.busy": "2022-09-26T17:43:19.910080Z",
          "iopub.status.idle": "2022-09-26T17:43:20.158447Z",
          "shell.execute_reply": "2022-09-26T17:43:20.156228Z",
          "shell.execute_reply.started": "2022-09-26T17:43:19.910624Z"
        }
      },
      "execution_count": 15,
      "outputs": [
        {
          "execution_count": 15,
          "output_type": "execute_result",
          "data": {
            "text/plain": [
              "Text(0.5, 0, 'Number of outlets')"
            ]
          },
          "metadata": {}
        },
        {
          "output_type": "display_data",
          "data": {
            "image/png": "[encoded data removed]",
            "text/plain": [
              "<Figure size 576x360 with 1 Axes>"
            ]
          },
          "metadata": {
            "needs_background": "light"
          }
        }
      ]
    },
    {
      "cell_type": "markdown",
      "source": "**2. Types of Restaurants in Bangalore**",
      "metadata": {}
    },
    {
      "cell_type": "code",
      "source": "rTypes=[]\nrCount=[]\nfor t in zdata['rest_type']:\n    t1=t.split(', ')\n    for i in t1:\n        if i not in rTypes:\n            rTypes.append(i)\n            rCount.append(1)\n        else:\n            index=rTypes.index(i)\n            rCount[index]+=1\ndf = pd.DataFrame({'Restaurant Type': rTypes, 'Count': rCount})\nax = df.plot.barh(x='Restaurant Type', y='Count',figsize=(8,8), fontsize=18)\nax.set_xlabel(\"Number of Restaurant\",fontsize=18) \nax.set_ylabel(\"Restaurant Type\",fontsize=18)\nax.set_title(\"Types of Restaurant\", fontsize=20)",
      "metadata": {
        "execution": {
          "iopub.execute_input": "2022-09-26T17:58:04.853700Z",
          "iopub.status.busy": "2022-09-26T17:58:04.851821Z",
          "iopub.status.idle": "2022-09-26T17:58:05.319156Z",
          "shell.execute_reply": "2022-09-26T17:58:05.316755Z",
          "shell.execute_reply.started": "2022-09-26T17:58:04.853610Z"
        }
      },
      "execution_count": 35,
      "outputs": [
        {
          "execution_count": 35,
          "output_type": "execute_result",
          "data": {
            "text/plain": [
              "Text(0.5, 1.0, 'Types of Restaurant')"
            ]
          },
          "metadata": {}
        },
        {
          "output_type": "display_data",
          "data": {
            "image/png": "[encoded data removed]",
            "text/plain": [
              "<Figure size 576x576 with 1 Axes>"
            ]
          },
          "metadata": {
            "needs_background": "light"
          }
        }
      ]
    },
    {
      "cell_type": "markdown",
      "source": "**3.Distribution of Restaurant Rating**\n\nFrom the following,we can see that on average the restaurants in our dataset has a rating between 3.5 and 4.0. There are very few restaurants with a rating of less than 3.0.",
      "metadata": {}
    },
    {
      "cell_type": "code",
      "source": "fig, ax = plt.subplots(nrows=1, ncols=1, figsize=(15, 5))\nsb.distplot(zdata.rate,kde=False,color = 'g',ax =ax,bins=20);\nax.axvline(zdata.rate.mean(), 0, 1, color='r', label='Mean')\nax.legend();\nax.set_ylabel('Count',size=20)\nax.set_xlabel('Rate',size=20)\nax.set_title('Distribution(count) of Restaurant rating',size=20);",
      "metadata": {
        "execution": {
          "iopub.execute_input": "2022-09-26T14:53:58.592820Z",
          "iopub.status.busy": "2022-09-26T14:53:58.592489Z",
          "iopub.status.idle": "2022-09-26T14:53:58.910079Z",
          "shell.execute_reply": "2022-09-26T14:53:58.909221Z",
          "shell.execute_reply.started": "2022-09-26T14:53:58.592790Z"
        }
      },
      "execution_count": 19,
      "outputs": [
        {
          "output_type": "display_data",
          "data": {
            "image/png": "[encoded data removed]",
            "text/plain": [
              "<Figure size 1080x360 with 1 Axes>"
            ]
          },
          "metadata": {
            "needs_background": "light"
          }
        }
      ]
    },
    {
      "cell_type": "markdown",
      "source": "**4. Top Favourite Cuisines**",
      "metadata": {}
    },
    {
      "cell_type": "code",
      "source": "def get_top_words(column, top_nu_of_words, nu_of_word):\n    \n    vec = CountVectorizer(ngram_range= nu_of_word, stop_words='english')\n    \n    bag_of_words = vec.fit_transform(column)\n    \n    sum_words = bag_of_words.sum(axis=0)\n    \n    words_freq = [(word, sum_words[0, idx]) for word, idx in vec.vocabulary_.items()]\n    \n    words_freq =sorted(words_freq, key = lambda x: x[1], reverse=True)\n    \n    return words_freq[:top_nu_of_words]\n\n",
      "metadata": {
        "execution": {
          "iopub.execute_input": "2022-09-26T14:53:58.912349Z",
          "iopub.status.busy": "2022-09-26T14:53:58.911661Z",
          "iopub.status.idle": "2022-09-26T14:53:58.920658Z",
          "shell.execute_reply": "2022-09-26T14:53:58.919549Z",
          "shell.execute_reply.started": "2022-09-26T14:53:58.912304Z"
        }
      },
      "execution_count": 20,
      "outputs": []
    },
    {
      "cell_type": "code",
      "source": "lst = get_top_words(zdata['cuisines'], 15, (2,2))\ndf_words = pd.DataFrame(lst, columns=['Word', 'Count'])\nplt.figure(figsize=(7,6))\nsb.barplot(data=df_words, x='Count', y='Word')\nplt.title('Word Couple Frequency for Cuisines');",
      "metadata": {
        "execution": {
          "iopub.execute_input": "2022-09-26T14:53:58.923199Z",
          "iopub.status.busy": "2022-09-26T14:53:58.922688Z",
          "iopub.status.idle": "2022-09-26T14:53:59.585221Z",
          "shell.execute_reply": "2022-09-26T14:53:59.584050Z",
          "shell.execute_reply.started": "2022-09-26T14:53:58.923153Z"
        }
      },
      "execution_count": 21,
      "outputs": [
        {
          "output_type": "display_data",
          "data": {
            "image/png": "[encoded data removed]",
            "text/plain": [
              "<Figure size 504x432 with 1 Axes>"
            ]
          },
          "metadata": {
            "needs_background": "light"
          }
        }
      ]
    },
    {
      "cell_type": "markdown",
      "source": "**5. Mean Rating of Each Restaurant**",
      "metadata": {}
    },
    {
      "cell_type": "code",
      "source": "restaurants = list(zdata['name'].unique())\nzdata['Mean Rating'] = 0\nfor i in range(len(restaurants)):\n    zdata['Mean Rating'][zdata['name'] == restaurants[i]] = zdata['rate'][zdata['name'] == restaurants[i]].mean()   \n#Scaling the mean rating values\nfrom sklearn.preprocessing import MinMaxScaler\nscaler = MinMaxScaler(feature_range = (1,5))\nzdata[['Mean Rating']] = scaler.fit_transform(zdata[['Mean Rating']]).round(2)\nzdata[['name','rate','Mean Rating']].head()",
      "metadata": {
        "execution": {
          "iopub.execute_input": "2022-09-26T14:53:59.587331Z",
          "iopub.status.busy": "2022-09-26T14:53:59.586930Z",
          "iopub.status.idle": "2022-09-26T14:54:55.362872Z",
          "shell.execute_reply": "2022-09-26T14:54:55.361623Z",
          "shell.execute_reply.started": "2022-09-26T14:53:59.587295Z"
        }
      },
      "execution_count": 22,
      "outputs": [
        {
          "execution_count": 22,
          "output_type": "execute_result",
          "data": {
            "text/html": [
              "<div>\n",
              "<style scoped>\n",
              "    .dataframe tbody tr th:only-of-type {\n",
              "        vertical-align: middle;\n",
              "    }\n",
              "\n",
              "    .dataframe tbody tr th {\n",
              "        vertical-align: top;\n",
              "    }\n",
              "\n",
              "    .dataframe thead th {\n",
              "        text-align: right;\n",
              "    }\n",
              "</style>\n",
              "<table border=\"1\" class=\"dataframe\">\n",
              "  <thead>\n",
              "    <tr style=\"text-align: right;\">\n",
              "      <th></th>\n",
              "      <th>name</th>\n",
              "      <th>rate</th>\n",
              "      <th>Mean Rating</th>\n",
              "    </tr>\n",
              "  </thead>\n",
              "  <tbody>\n",
              "    <tr>\n",
              "      <th>0</th>\n",
              "      <td>Jalsa</td>\n",
              "      <td>4.1</td>\n",
              "      <td>3.99</td>\n",
              "    </tr>\n",
              "    <tr>\n",
              "      <th>1</th>\n",
              "      <td>Spice Elephant</td>\n",
              "      <td>4.1</td>\n",
              "      <td>3.97</td>\n",
              "    </tr>\n",
              "    <tr>\n",
              "      <th>2</th>\n",
              "      <td>San Churro Cafe</td>\n",
              "      <td>3.8</td>\n",
              "      <td>3.58</td>\n",
              "    </tr>\n",
              "    <tr>\n",
              "      <th>3</th>\n",
              "      <td>Addhuri Udupi Bhojana</td>\n",
              "      <td>3.7</td>\n",
              "      <td>3.45</td>\n",
              "    </tr>\n",
              "    <tr>\n",
              "      <th>4</th>\n",
              "      <td>Grand Village</td>\n",
              "      <td>3.8</td>\n",
              "      <td>3.58</td>\n",
              "    </tr>\n",
              "  </tbody>\n",
              "</table>\n",
              "</div>"
            ],
            "text/plain": [
              "                    name  rate  Mean Rating\n",
              "0                  Jalsa   4.1         3.99\n",
              "1         Spice Elephant   4.1         3.97\n",
              "2        San Churro Cafe   3.8         3.58\n",
              "3  Addhuri Udupi Bhojana   3.7         3.45\n",
              "4          Grand Village   3.8         3.58"
            ]
          },
          "metadata": {}
        }
      ]
    }
  ]
}